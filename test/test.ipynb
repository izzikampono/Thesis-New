{
 "cells": [
  {
   "cell_type": "code",
   "execution_count": 16,
   "metadata": {},
   "outputs": [
    {
     "name": "stdout",
     "output_type": "stream",
     "text": [
      "The secret number is: 42\n"
     ]
    }
   ],
   "source": [
    "\n",
    "\n",
    "\n",
    "\n",
    "class Animal:\n",
    "    def __init__(self):\n",
    "        self.__secret_number = None\n",
    "\n",
    "    def get_secret_number(self):\n",
    "        return self.__secret_number\n",
    "\n",
    "# Child class inheriting from Parent\n",
    "class Dog(Animal):\n",
    "    def __init__(self):\n",
    "        super().__init__()\n",
    "\n",
    "    def print_secret_number(self):\n",
    "        secret_number = super().get_secret_number()  # Accessing parent's private method\n",
    "        print(\"The secret number is:\", secret_number)\n",
    "\n",
    "# Creating an instance of Child class\n",
    "child_obj = Dog()\n",
    "\n",
    "# Accessing the parent's private method indirectly through the child class's method\n",
    "child_obj.print_secret_number() "
   ]
  },
  {
   "cell_type": "code",
   "execution_count": 17,
   "metadata": {},
   "outputs": [
    {
     "name": "stdout",
     "output_type": "stream",
     "text": [
      "The secret number is: 42\n"
     ]
    }
   ],
   "source": [
    "dog = Dog()\n",
    "dog.print_secret_number()"
   ]
  }
 ],
 "metadata": {
  "kernelspec": {
   "display_name": "tensorflow",
   "language": "python",
   "name": "python3"
  },
  "language_info": {
   "codemirror_mode": {
    "name": "ipython",
    "version": 3
   },
   "file_extension": ".py",
   "mimetype": "text/x-python",
   "name": "python",
   "nbconvert_exporter": "python",
   "pygments_lexer": "ipython3",
   "version": "3.10.8"
  }
 },
 "nbformat": 4,
 "nbformat_minor": 2
}
