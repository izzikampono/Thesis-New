{
 "cells": [
  {
   "cell_type": "markdown",
   "metadata": {},
   "source": [
    "## Notebook to investigate different reward matrix for Potential Games :\n",
    "\n",
    "#### Criteria to be fulfilled by the reward matrix :\n",
    "\n",
    "R_ix,u_i,u_not_i) - R_i (x,v_i,u_not_1)  = R_central(x,u_i,u_not_i) - R_central(x,v_i,u_not_i)\n"
   ]
  },
  {
   "cell_type": "code",
   "execution_count": null,
   "metadata": {},
   "outputs": [],
   "source": []
  },
  {
   "cell_type": "code",
   "execution_count": 1,
   "metadata": {},
   "outputs": [],
   "source": [
    "import numpy as np\n",
    "import pandas as pd\n",
    "import copy\n",
    "from decpomdp import DecPOMDP\n",
    "from problem import PROBLEM\n",
    "import gc \n",
    "import copy"
   ]
  },
  {
   "cell_type": "code",
   "execution_count": 2,
   "metadata": {},
   "outputs": [],
   "source": [
    "# set game to run and initialize \n",
    "\n",
    "\n",
    "problem_name = \"dectiger\"\n",
    "planning_horizon = 5\n",
    "gametype = \"stackelberg\"\n",
    "sota = False\n",
    "num_iterations = 3\n",
    "\n",
    "decpomdp = DecPOMDP(problem_name,horizon=planning_horizon)\n",
    "PROBLEM.initialize(decpomdp)\n",
    "from beliefSpace import BeliefSpace\n",
    "from pbvi import PBVI\n",
    "from reward_LP import LP\n"
   ]
  },
  {
   "cell_type": "code",
   "execution_count": 3,
   "metadata": {},
   "outputs": [
    {
     "data": {
      "text/plain": [
       "{'cooperative': [array([[  -2.,   -2.],\n",
       "         [-101.,    9.],\n",
       "         [   9., -101.],\n",
       "         [-101.,    9.],\n",
       "         [ -50.,   20.],\n",
       "         [-100., -100.],\n",
       "         [   9., -101.],\n",
       "         [-100., -100.],\n",
       "         [  20.,  -50.]]),\n",
       "  array([[  -2.,   -2.],\n",
       "         [-101.,    9.],\n",
       "         [   9., -101.],\n",
       "         [-101.,    9.],\n",
       "         [ -50.,   20.],\n",
       "         [-100., -100.],\n",
       "         [   9., -101.],\n",
       "         [-100., -100.],\n",
       "         [  20.,  -50.]])],\n",
       " 'zerosum': [array([[  -2.,   -2.],\n",
       "         [-101.,    9.],\n",
       "         [   9., -101.],\n",
       "         [-101.,    9.],\n",
       "         [ -50.,   20.],\n",
       "         [-100., -100.],\n",
       "         [   9., -101.],\n",
       "         [-100., -100.],\n",
       "         [  20.,  -50.]]),\n",
       "  array([[  2.,   2.],\n",
       "         [101.,  -9.],\n",
       "         [ -9., 101.],\n",
       "         [101.,  -9.],\n",
       "         [ 50., -20.],\n",
       "         [100., 100.],\n",
       "         [ -9., 101.],\n",
       "         [100., 100.],\n",
       "         [-20.,  50.]])],\n",
       " 'generalsum': [array([[  -2.,   -2.],\n",
       "         [ -40.,   50.],\n",
       "         [  -4.,   -4.],\n",
       "         [-100.,   60.],\n",
       "         [ -50.,   70.],\n",
       "         [-100.,   60.],\n",
       "         [  25.,  -20.],\n",
       "         [ -15.,   30.],\n",
       "         [  30.,  -20.]]),\n",
       "  array([[  -2.,   -2.],\n",
       "         [ -20.,   25.],\n",
       "         [  60., -100.],\n",
       "         [  -4.,   -4.],\n",
       "         [ -20.,   30.],\n",
       "         [  60., -100.],\n",
       "         [  50.,  -40.],\n",
       "         [  30.,  -15.],\n",
       "         [  70.,  -50.]])]}"
      ]
     },
     "execution_count": 3,
     "metadata": {},
     "output_type": "execute_result"
    }
   ],
   "source": [
    "PROBLEM = PROBLEM.get_instance()\n",
    "PROBLEM.REWARDS"
   ]
  },
  {
   "cell_type": "code",
   "execution_count": 4,
   "metadata": {},
   "outputs": [],
   "source": [
    "tiger_reward = [np.array([[  -2.,   -2.],\n",
    "         [ -102.,   -20.],\n",
    "         [  -4.,   60.],\n",
    "         [-100.,   -4.],\n",
    "         [ -20.,  -20.],\n",
    "         [-100.,   100.],\n",
    "         [  0.,  56.],\n",
    "         [ -100.,   100.],\n",
    "         [  30.,  70.]]),\n",
    "  np.array([[  -2.,   -2.],\n",
    "         [ 56.,   0.],\n",
    "         [  -4., -100.],\n",
    "         [  60.,   -4.],\n",
    "         [ 70.,   30.],\n",
    "         [  100., -100.],\n",
    "         [  -20.,  -102.],\n",
    "         [  -100.,  -100.],\n",
    "         [  -20.,  -20.]])]\n",
    "# tiger_reward[state][action][agent]"
   ]
  },
  {
   "cell_type": "code",
   "execution_count": 5,
   "metadata": {},
   "outputs": [
    {
     "data": {
      "text/plain": [
       "-70.0"
      ]
     },
     "execution_count": 5,
     "metadata": {},
     "output_type": "execute_result"
    }
   ],
   "source": [
    "def generate_joint_reward(state,leader_action,follower_action,reward_fn):\n",
    "    reward = 0\n",
    "    for agent in range(2):\n",
    "        for follower_action in PROBLEM.ACTIONS[PROBLEM.FOLLOWER]:\n",
    "           joint_action = PROBLEM.get_joint_action(leader_action,follower_action)\n",
    "           reward += reward_fn[state][joint_action][agent]\n",
    "    return reward\n",
    "\n",
    "generate_joint_reward(0,0,1,tiger_reward)\n"
   ]
  },
  {
   "cell_type": "code",
   "execution_count": null,
   "metadata": {},
   "outputs": [],
   "source": []
  },
  {
   "cell_type": "code",
   "execution_count": 6,
   "metadata": {},
   "outputs": [
    {
     "name": "stdout",
     "output_type": "stream",
     "text": [
      "No solution found\n",
      "Infeasible constraints:\n"
     ]
    },
    {
     "ename": "AttributeError",
     "evalue": "'LinearConstraint' object has no attribute 'expression'",
     "output_type": "error",
     "traceback": [
      "\u001b[0;31m---------------------------------------------------------------------------\u001b[0m",
      "\u001b[0;31mAttributeError\u001b[0m                            Traceback (most recent call last)",
      "Cell \u001b[0;32mIn[6], line 2\u001b[0m\n\u001b[1;32m      1\u001b[0m linear_program \u001b[38;5;241m=\u001b[39m LP(tiger_reward)\n\u001b[0;32m----> 2\u001b[0m \u001b[43mlinear_program\u001b[49m\u001b[38;5;241;43m.\u001b[39;49m\u001b[43msolve\u001b[49m\u001b[43m(\u001b[49m\u001b[43m)\u001b[49m\n",
      "File \u001b[0;32m~/Documents/GitHub/Thesis-New/reward_LP.py:96\u001b[0m, in \u001b[0;36mLP.solve\u001b[0;34m(self)\u001b[0m\n\u001b[1;32m     94\u001b[0m \u001b[38;5;28mprint\u001b[39m(\u001b[38;5;124m\"\u001b[39m\u001b[38;5;124mInfeasible constraints:\u001b[39m\u001b[38;5;124m\"\u001b[39m)\n\u001b[1;32m     95\u001b[0m \u001b[38;5;28;01mfor\u001b[39;00m constraint \u001b[38;5;129;01min\u001b[39;00m \u001b[38;5;28mself\u001b[39m\u001b[38;5;241m.\u001b[39mlp\u001b[38;5;241m.\u001b[39miter_constraints():\n\u001b[0;32m---> 96\u001b[0m     expr \u001b[38;5;241m=\u001b[39m \u001b[43mconstraint\u001b[49m\u001b[38;5;241;43m.\u001b[39;49m\u001b[43mexpression\u001b[49m\n\u001b[1;32m     97\u001b[0m     \u001b[38;5;28;01mif\u001b[39;00m expr(substitute\u001b[38;5;241m=\u001b[39msolution) \u001b[38;5;241m>\u001b[39m constraint\u001b[38;5;241m.\u001b[39mub \u001b[38;5;129;01mor\u001b[39;00m expr(substitute\u001b[38;5;241m=\u001b[39msolution) \u001b[38;5;241m<\u001b[39m constraint\u001b[38;5;241m.\u001b[39mlb:\n\u001b[1;32m     98\u001b[0m         \u001b[38;5;28mprint\u001b[39m(constraint)\n",
      "\u001b[0;31mAttributeError\u001b[0m: 'LinearConstraint' object has no attribute 'expression'"
     ]
    }
   ],
   "source": [
    "linear_program = LP(tiger_reward)\n",
    "linear_program.solve()"
   ]
  },
  {
   "cell_type": "code",
   "execution_count": null,
   "metadata": {},
   "outputs": [],
   "source": [
    "\n"
   ]
  }
 ],
 "metadata": {
  "kernelspec": {
   "display_name": "tensorflow",
   "language": "python",
   "name": "python3"
  },
  "language_info": {
   "codemirror_mode": {
    "name": "ipython",
    "version": 3
   },
   "file_extension": ".py",
   "mimetype": "text/x-python",
   "name": "python",
   "nbconvert_exporter": "python",
   "pygments_lexer": "ipython3",
   "version": "3.10.8"
  }
 },
 "nbformat": 4,
 "nbformat_minor": 2
}
